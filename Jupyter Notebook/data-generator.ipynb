{
 "cells": [
  {
   "cell_type": "code",
   "execution_count": 2,
   "metadata": {},
   "outputs": [
    {
     "name": "stdout",
     "output_type": "stream",
     "text": [
      "Found $424 negative adjectives\n"
     ]
    }
   ],
   "source": [
    "import nltk\n",
    "from nltk.corpus import words\n",
    "from nltk.sentiment import SentimentIntensityAnalyzer\n",
    "from nltk.corpus import brown\n",
    "\n",
    "sia = SentimentIntensityAnalyzer()\n",
    "tagged_words = brown.tagged_words()\n",
    "\n",
    "\n",
    "def is_negative(word):\n",
    "    return sia.polarity_scores(word)[\"neg\"] == 1\n",
    "\n",
    "# Penn Tree Bank POS Tags =>\n",
    "# https://iq.opengenus.org/content/images/2020/12/4-Overview-of-the-Penn-Treebank-tagset-from-135-p131.png\n",
    "adjectives = set([word.lower() for (word, tag) in tagged_words if tag in [\"JJ\", \"JJR\", \"JJS\"]])\n",
    "\n",
    "negative_adjectives = [word for word in adjectives if is_negative(word)]\n",
    "print (f'Found {len(negative_adjectives)} negative adjectives')\n",
    "\n",
    "with open('NEG_ADJ_EN.txt', 'w') as f:\n",
    "    f.write(\"\\n\".join(negative_adjectives))"
   ]
  },
  {
   "cell_type": "markdown",
   "metadata": {},
   "source": [
    "## Extract Food Item Names from Wordnet"
   ]
  },
  {
   "cell_type": "code",
   "execution_count": 67,
   "metadata": {},
   "outputs": [],
   "source": [
    "from nltk.corpus import wordnet as wn\n",
    "food_synset = wn.synset('food.n.02')\n",
    "food_items = list(set([w for s in food_synset.closure(lambda s:s.hyponyms()) for w in s.lemma_names()]))\n",
    "\n",
    "with open('Food_Unfiltered.txt', 'w') as f:\n",
    "    f.write(\"\\n\".join(sorted(food_items)))"
   ]
  }
 ],
 "metadata": {
  "kernelspec": {
   "display_name": "Python 3",
   "language": "python",
   "name": "python3"
  },
  "language_info": {
   "codemirror_mode": {
    "name": "ipython",
    "version": 3
   },
   "file_extension": ".py",
   "mimetype": "text/x-python",
   "name": "python",
   "nbconvert_exporter": "python",
   "pygments_lexer": "ipython3",
   "version": "3.8.7"
  }
 },
 "nbformat": 4,
 "nbformat_minor": 4
}
